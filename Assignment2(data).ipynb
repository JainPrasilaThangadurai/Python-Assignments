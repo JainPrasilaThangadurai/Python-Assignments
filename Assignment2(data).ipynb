{
  "nbformat": 4,
  "nbformat_minor": 0,
  "metadata": {
    "colab": {
      "provenance": [],
      "authorship_tag": "ABX9TyPC28rvHcf1zRztjZbQwIxN",
      "include_colab_link": true
    },
    "kernelspec": {
      "name": "python3",
      "display_name": "Python 3"
    },
    "language_info": {
      "name": "python"
    }
  },
  "cells": [
    {
      "cell_type": "markdown",
      "metadata": {
        "id": "view-in-github",
        "colab_type": "text"
      },
      "source": [
        "<a href=\"https://colab.research.google.com/github/JainPrasilaThangadurai/Python-Assignments/blob/main/Assignment2(data).ipynb\" target=\"_parent\"><img src=\"https://colab.research.google.com/assets/colab-badge.svg\" alt=\"Open In Colab\"/></a>"
      ]
    },
    {
      "cell_type": "code",
      "execution_count": null,
      "metadata": {
        "id": "yi_hux2b0Byv",
        "colab": {
          "base_uri": "https://localhost:8080/"
        },
        "outputId": "f41432c8-a028-4db0-c883-94dd9a646e39"
      },
      "outputs": [
        {
          "output_type": "stream",
          "name": "stdout",
          "text": [
            "[1, 2, 3, 4, 5]\n"
          ]
        }
      ],
      "source": [
        "l1=[1,1,1,1,2,2,3,3,3,3,4,5]\n",
        "l2=[]\n",
        "for e in l1:\n",
        "  if e not in l2:\n",
        "    l2.append(e)\n",
        "print(l2)\n",
        "\n",
        "    \n",
        "\n"
      ]
    },
    {
      "cell_type": "code",
      "source": [
        "L1=[1,2,3,4,[4,3]]\n",
        "\n",
        "L2 =[]\n",
        "for e in L1[0:4]:\n",
        "  if e in L1[4]:\n",
        "    L2.append(e)\n",
        "print(L2)\n"
      ],
      "metadata": {
        "id": "-WY0P-621hcZ",
        "colab": {
          "base_uri": "https://localhost:8080/"
        },
        "outputId": "17b0cfa0-7504-4938-b183-93a24f2f964b"
      },
      "execution_count": null,
      "outputs": [
        {
          "output_type": "stream",
          "name": "stdout",
          "text": [
            "[3, 4]\n"
          ]
        }
      ]
    },
    {
      "cell_type": "code",
      "source": [],
      "metadata": {
        "colab": {
          "base_uri": "https://localhost:8080/"
        },
        "id": "1nVd8wopDOSd",
        "outputId": "67b9e2db-b637-47e5-a07c-b7ed27b4ea1e"
      },
      "execution_count": null,
      "outputs": [
        {
          "output_type": "stream",
          "name": "stdout",
          "text": [
            "[3, 4]\n"
          ]
        }
      ]
    }
  ]
}