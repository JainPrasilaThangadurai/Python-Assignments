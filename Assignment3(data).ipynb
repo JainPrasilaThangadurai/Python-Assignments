{
  "nbformat": 4,
  "nbformat_minor": 0,
  "metadata": {
    "colab": {
      "provenance": [],
      "authorship_tag": "ABX9TyOqNLR6/JIS2dU/H5fzzD+9",
      "include_colab_link": true
    },
    "kernelspec": {
      "name": "python3",
      "display_name": "Python 3"
    },
    "language_info": {
      "name": "python"
    }
  },
  "cells": [
    {
      "cell_type": "markdown",
      "metadata": {
        "id": "view-in-github",
        "colab_type": "text"
      },
      "source": [
        "<a href=\"https://colab.research.google.com/github/JainPrasilaThangadurai/Python-Assignments/blob/main/Assignment3(data).ipynb\" target=\"_parent\"><img src=\"https://colab.research.google.com/assets/colab-badge.svg\" alt=\"Open In Colab\"/></a>"
      ]
    },
    {
      "cell_type": "code",
      "execution_count": null,
      "metadata": {
        "colab": {
          "base_uri": "https://localhost:8080/"
        },
        "id": "spKfweqOGr2Z",
        "outputId": "e498b2a5-5182-45df-d5b7-98699749e9e4"
      },
      "outputs": [
        {
          "output_type": "stream",
          "name": "stdout",
          "text": [
            "1\n",
            "2\n",
            "3\n",
            "5\n",
            "1\n",
            "2\n",
            "3\n",
            "[1, 2, 3, 5, 1, 2, 3]\n"
          ]
        }
      ],
      "source": [
        "l1 =[[1,-1,2],[0,-5,3,5,-2],[1,2,3,0,-2,-3]]\n",
        "l2=[]\n",
        "for e in l1[0]:\n",
        "  if e>0:\n",
        "    print(e)\n",
        "    l2.append(e)\n",
        "for e in l1[1]:\n",
        "  if e>0:\n",
        "    print(e)\n",
        "    l2.append(e)\n",
        "for e in l1[2]:\n",
        "  if e>0:\n",
        "    print(e)\n",
        "    l2.append(e)\n",
        "print(l2)"
      ]
    },
    {
      "cell_type": "code",
      "source": [
        "l=[[1,2,3],[4,5,6,3],[-1,-2,-10,5,8]]\n",
        "sum0=0\n",
        "sum1=0\n",
        "sum2=0\n",
        "for e in l[0]:\n",
        "  sum0=sum0+e\n",
        "  average0 =sum0/len(l[0])\n",
        "print(average0)\n",
        "for e in l[1]:\n",
        "  sum1=sum1+e\n",
        "  average1 =sum1/len(l[1])\n",
        "print(average1)\n",
        "for e in l[2]:\n",
        "  sum2=sum2+e\n",
        "  average2 =sum2/len(l[2])\n",
        "print(average2)\n",
        "total=((average0)+(average1)+(average2))\n",
        "print(total)"
      ],
      "metadata": {
        "colab": {
          "base_uri": "https://localhost:8080/"
        },
        "id": "kD6fR2kGhf6v",
        "outputId": "50098b05-eab0-4867-b492-2051b86d01a3"
      },
      "execution_count": null,
      "outputs": [
        {
          "output_type": "stream",
          "name": "stdout",
          "text": [
            "2.0\n",
            "4.5\n",
            "0.0\n",
            "6.5\n"
          ]
        }
      ]
    }
  ]
}