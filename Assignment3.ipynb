{
  "nbformat": 4,
  "nbformat_minor": 0,
  "metadata": {
    "colab": {
      "provenance": [],
      "authorship_tag": "ABX9TyN+IPyy/rSid7Q5CpQTG28K",
      "include_colab_link": true
    },
    "kernelspec": {
      "name": "python3",
      "display_name": "Python 3"
    },
    "language_info": {
      "name": "python"
    }
  },
  "cells": [
    {
      "cell_type": "markdown",
      "metadata": {
        "id": "view-in-github",
        "colab_type": "text"
      },
      "source": [
        "<a href=\"https://colab.research.google.com/github/JainPrasilaThangadurai/Python-Assignments/blob/main/Assignment3.ipynb\" target=\"_parent\"><img src=\"https://colab.research.google.com/assets/colab-badge.svg\" alt=\"Open In Colab\"/></a>"
      ]
    },
    {
      "cell_type": "code",
      "execution_count": 1,
      "metadata": {
        "colab": {
          "base_uri": "https://localhost:8080/"
        },
        "id": "bUrFs2k-eFAg",
        "outputId": "88cf0167-820b-41b1-9efc-01b8ffdd060a"
      },
      "outputs": [
        {
          "output_type": "stream",
          "name": "stdout",
          "text": [
            "20\n"
          ]
        }
      ],
      "source": [
        "def sum(num):\n",
        "\n",
        "  tot = 0\n",
        "\n",
        "  for e in num:\n",
        "\n",
        "        tot += e\n",
        "\n",
        "  return tot\n",
        "\n",
        "print(sum([8, 2, 3, 0, 7]))"
      ]
    },
    {
      "cell_type": "code",
      "source": [
        "def reverse_string(string):  \n",
        "\n",
        "    S = \"\"\n",
        "\n",
        "    for e in string:  \n",
        "\n",
        "        S = e + S  \n",
        "\n",
        "    return S\n",
        "\n",
        "print(reverse_string(\"1234abcd\"))"
      ],
      "metadata": {
        "colab": {
          "base_uri": "https://localhost:8080/"
        },
        "id": "guCa58_7egOK",
        "outputId": "46500d96-01c2-40da-a588-b28d2f76e0d9"
      },
      "execution_count": 2,
      "outputs": [
        {
          "output_type": "stream",
          "name": "stdout",
          "text": [
            "dcba4321\n"
          ]
        }
      ]
    },
    {
      "cell_type": "code",
      "source": [
        "def letters_count(str):\n",
        "\n",
        "  Uppercase = 0\n",
        "\n",
        "  Lowercase = 0\n",
        "\n",
        "  for e in str:  \n",
        "\n",
        "        if(e.islower()):\n",
        "\n",
        "          Lowercase=Lowercase+1\n",
        "\n",
        "        elif(e.isupper()):\n",
        "\n",
        "          Uppercase = Uppercase + 1\n",
        "\n",
        "  print(f'No of Upper character is: {Uppercase}')\n",
        "\n",
        "  print(f\"No of Lower character: {Lowercase}\")\n",
        "\n",
        "\n",
        "\n",
        "\n",
        "\n",
        "\n",
        "\n",
        "letters_count(\"The quick Brow Fox\")"
      ],
      "metadata": {
        "colab": {
          "base_uri": "https://localhost:8080/"
        },
        "id": "rltgr24Xerb_",
        "outputId": "1d73b569-f4fb-41c1-df23-22096d60a21f"
      },
      "execution_count": 3,
      "outputs": [
        {
          "output_type": "stream",
          "name": "stdout",
          "text": [
            "No of Upper character is: 3\n",
            "No of Lower character: 12\n"
          ]
        }
      ]
    }
  ]
}