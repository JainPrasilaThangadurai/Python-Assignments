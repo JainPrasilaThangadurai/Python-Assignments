{
  "nbformat": 4,
  "nbformat_minor": 0,
  "metadata": {
    "colab": {
      "provenance": [],
      "authorship_tag": "ABX9TyOikVu9kcHSw5iJ1+8G2bgK",
      "include_colab_link": true
    },
    "kernelspec": {
      "name": "python3",
      "display_name": "Python 3"
    },
    "language_info": {
      "name": "python"
    }
  },
  "cells": [
    {
      "cell_type": "markdown",
      "metadata": {
        "id": "view-in-github",
        "colab_type": "text"
      },
      "source": [
        "<a href=\"https://colab.research.google.com/github/JainPrasilaThangadurai/Python-Assignments/blob/main/Assignment3.ipynb\" target=\"_parent\"><img src=\"https://colab.research.google.com/assets/colab-badge.svg\" alt=\"Open In Colab\"/></a>"
      ]
    },
    {
      "cell_type": "code",
      "execution_count": null,
      "metadata": {
        "colab": {
          "base_uri": "https://localhost:8080/"
        },
        "id": "OJI9hogzavUG",
        "outputId": "3f7efa96-2ad9-4db2-d271-ed267e0d8a26"
      },
      "outputs": [
        {
          "output_type": "stream",
          "name": "stdout",
          "text": [
            "enter number of calls200\n",
            "315.0\n"
          ]
        }
      ],
      "source": [
        "n=int(input(\"enter number of calls\"))\n",
        "bill=200\n",
        "if n<=100:\n",
        "  print (\"bill 200\")\n",
        "  \n",
        "elif n>100 and n<=150:\n",
        "  print(bill+(n%100)*0.60)\n",
        "  \n",
        "elif n>=150 and n<=200:\n",
        "  print(bill+150*0.60+(n-150)*0.50)\n",
        "else:\n",
        "  print(bill+150*0.60+50*0.50+(n-200)*0.40)"
      ]
    }
  ]
}