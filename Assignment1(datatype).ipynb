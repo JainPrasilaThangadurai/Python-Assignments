{
  "nbformat": 4,
  "nbformat_minor": 0,
  "metadata": {
    "colab": {
      "provenance": [],
      "authorship_tag": "ABX9TyOxYI8vRJg2jUhRwBoJ4XZU",
      "include_colab_link": true
    },
    "kernelspec": {
      "name": "python3",
      "display_name": "Python 3"
    },
    "language_info": {
      "name": "python"
    }
  },
  "cells": [
    {
      "cell_type": "markdown",
      "metadata": {
        "id": "view-in-github",
        "colab_type": "text"
      },
      "source": [
        "<a href=\"https://colab.research.google.com/github/JainPrasilaThangadurai/Python-Assignments/blob/main/Assignment1(datatype).ipynb\" target=\"_parent\"><img src=\"https://colab.research.google.com/assets/colab-badge.svg\" alt=\"Open In Colab\"/></a>"
      ]
    },
    {
      "cell_type": "markdown",
      "source": [
        "1)question"
      ],
      "metadata": {
        "id": "dBS2g-bZUTsN"
      }
    },
    {
      "cell_type": "code",
      "execution_count": null,
      "metadata": {
        "colab": {
          "base_uri": "https://localhost:8080/"
        },
        "id": "Jnwbh61QS3sq",
        "outputId": "5f7375bf-1837-45e6-c082-eb64d42ebfa2"
      },
      "outputs": [
        {
          "output_type": "stream",
          "name": "stdout",
          "text": [
            "['phone.jpg', 'view.jpg', 'bear,jpg', 'ball.png']\n",
            "<class 'list'>\n",
            "['phone.jpg', 'view.jpg', 'bear,jpg']\n"
          ]
        }
      ],
      "source": [
        "L1=['view.jpg','bear,jpg','ball.png']\n",
        "L1.insert(0,'phone.jpg')\n",
        "print(L1)\n",
        "L1.pop(3)\n",
        "print(type(L1))\n",
        "print(L1)\n"
      ]
    },
    {
      "cell_type": "code",
      "source": [
        "L=[1,2,3,4,5,6,7,8,9,10]\n",
        "\n",
        "min,max=1,0\n",
        "for e in L:\n",
        "  if e>max:\n",
        "    max=e\n",
        "    s = sum(L)\n",
        "    length = len(L)\n",
        "    Avg=s/length\n",
        "  if e<min:\n",
        "    min=e\n",
        "\n",
        "print(max)\n",
        "\n",
        "print(Avg)\n",
        "\n",
        "print(min)"
      ],
      "metadata": {
        "id": "07ks9e2zY8Df"
      },
      "execution_count": null,
      "outputs": []
    }
  ]
}