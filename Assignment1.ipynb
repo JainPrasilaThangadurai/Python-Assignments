{
  "nbformat": 4,
  "nbformat_minor": 0,
  "metadata": {
    "colab": {
      "provenance": [],
      "authorship_tag": "ABX9TyNvP3H6VJgaz4+ctaRnUOPg",
      "include_colab_link": true
    },
    "kernelspec": {
      "name": "python3",
      "display_name": "Python 3"
    },
    "language_info": {
      "name": "python"
    }
  },
  "cells": [
    {
      "cell_type": "markdown",
      "metadata": {
        "id": "view-in-github",
        "colab_type": "text"
      },
      "source": [
        "<a href=\"https://colab.research.google.com/github/JainPrasilaThangadurai/Python-Assignments/blob/main/Assignment1.ipynb\" target=\"_parent\"><img src=\"https://colab.research.google.com/assets/colab-badge.svg\" alt=\"Open In Colab\"/></a>"
      ]
    },
    {
      "cell_type": "code",
      "execution_count": null,
      "metadata": {
        "colab": {
          "base_uri": "https://localhost:8080/"
        },
        "id": "yix5XVPHErCm",
        "outputId": "806934f8-6cda-4698-cd02-826c4e81e839"
      },
      "outputs": [
        {
          "output_type": "stream",
          "name": "stdout",
          "text": [
            "enter a value 3\n",
            "enter a value 5\n",
            "enter a value 15\n",
            "Fizz\n"
          ]
        }
      ],
      "source": [
        "n = int(input(\"enter a value \"))\n",
        "n = int(input(\"enter a value \"))\n",
        "n = int(input(\"enter a value \"))\n",
        "\n",
        "\n",
        "\n",
        "if n%3==0 :\n",
        "\n",
        "   print(\"Fizz\")\n",
        "\n",
        "elif n%5==0:\n",
        "\n",
        "  print(\"Fuzz\")\n",
        "\n",
        "elif n%3==0 and n%5==0:\n",
        "  print(\"Fizz Buzz\")\n",
        "\n",
        "else:\n",
        "  print(\"All the value\")"
      ]
    }
  ]
}