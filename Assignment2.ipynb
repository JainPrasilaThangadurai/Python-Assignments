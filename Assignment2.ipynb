{
  "nbformat": 4,
  "nbformat_minor": 0,
  "metadata": {
    "colab": {
      "provenance": [],
      "authorship_tag": "ABX9TyOuD+Zo5n86YoLvkA8W8n39",
      "include_colab_link": true
    },
    "kernelspec": {
      "name": "python3",
      "display_name": "Python 3"
    },
    "language_info": {
      "name": "python"
    }
  },
  "cells": [
    {
      "cell_type": "markdown",
      "metadata": {
        "id": "view-in-github",
        "colab_type": "text"
      },
      "source": [
        "<a href=\"https://colab.research.google.com/github/JainPrasilaThangadurai/Python-Assignments/blob/main/Assignment2.ipynb\" target=\"_parent\"><img src=\"https://colab.research.google.com/assets/colab-badge.svg\" alt=\"Open In Colab\"/></a>"
      ]
    },
    {
      "cell_type": "code",
      "execution_count": null,
      "metadata": {
        "colab": {
          "base_uri": "https://localhost:8080/"
        },
        "id": "125XLq8Ni8pa",
        "outputId": "5f8fc9f7-0abf-448c-f953-873a342cba63"
      },
      "outputs": [
        {
          "output_type": "stream",
          "name": "stdout",
          "text": [
            "Enter d:100\n",
            "Enter w:10\n",
            "enter the log_messaged-w\n",
            "90\n"
          ]
        }
      ],
      "source": [
        "d = int(input(\"Enter d:\"))\n",
        "w = int(input(\"Enter w:\"))\n",
        "\n",
        "cl=input(\"enter the log_message\")\n",
        "\n",
        "if cl==\"d-w\":\n",
        "\n",
        "   print(\"90\")\n",
        "elif cl==\"d-w+d\":\n",
        "   print(\"300\")\n",
        "else:\n",
        "   print(\"console input\")"
      ]
    },
    {
      "cell_type": "code",
      "source": [],
      "metadata": {
        "id": "FtVG_0JTfQlp"
      },
      "execution_count": null,
      "outputs": []
    }
  ]
}